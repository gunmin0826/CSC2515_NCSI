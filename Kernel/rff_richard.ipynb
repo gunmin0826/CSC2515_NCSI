{
 "cells": [
  {
   "cell_type": "code",
   "execution_count": null,
   "metadata": {},
   "outputs": [],
   "source": []
  },
  {
   "cell_type": "code",
   "execution_count": 2,
   "metadata": {},
   "outputs": [],
   "source": [
    "import numpy as np\n",
    "import scipy\n",
    "from scipy.linalg import cho_solve, cho_factor, eigh\n",
    "from itertools import product\n",
    "import pandas as pd\n",
    "from scipy.io import arff\n",
    "from sklearn.model_selection import train_test_split, KFold\n",
    "from sklearn.preprocessing import MinMaxScaler\n",
    "from scipy.linalg import LinAlgError\n",
    "arff_file = arff.loadarff('dataset/MagicTelescope.arff')\n",
    "data = pd.DataFrame(arff_file[0])\n"
   ]
  },
  {
   "cell_type": "code",
   "execution_count": 3,
   "metadata": {},
   "outputs": [],
   "source": [
    "data['labels'] = (data['class:'] == b'g').astype(int)\n",
    "labels = data['labels'].to_numpy()\n",
    "features = data.iloc[:,1:-2].to_numpy()\n",
    "\n",
    "scaler = MinMaxScaler()\n",
    "scaler.fit(features)\n",
    "features = scaler.transform(features)"
   ]
  },
  {
   "cell_type": "code",
   "execution_count": 4,
   "metadata": {},
   "outputs": [
    {
     "name": "stdout",
     "output_type": "stream",
     "text": [
      "(15216, 10)\n"
     ]
    }
   ],
   "source": [
    "def KRR_global(X_train,Y_train,X_test,best_params):\n",
    "    '''\n",
    "    Returns the Kernel Ridge Regression predictions using a Gaussian kernel.\n",
    "    '''\n",
    "    lam = best_params['lambda']\n",
    "    sigma = best_params['length']\n",
    "       \n",
    "    dist = scipy.spatial.distance_matrix(X_train, X_train)\n",
    "    exponent = dist/sigma\n",
    "\n",
    "    K = np.exp(-(exponent**2)/2)\n",
    "\n",
    "    K += np.eye(K.shape[0])*lam\n",
    "\n",
    "    try:\n",
    "        L = scipy.linalg.cholesky(K, lower=True)\n",
    "    except:\n",
    "        return 'Gram Matrix is not positive definite'\n",
    "    else:\n",
    "        try:\n",
    "            alphas = cho_solve((L,True),Y_train)\n",
    "        except:\n",
    "            return 'Cholesky decomposition failed, check distance matrices'\n",
    "        else:\n",
    "            dist2 = scipy.spatial.distance_matrix(X_train, X_test)\n",
    "            exponent2 = dist2/sigma\n",
    "\n",
    "            K_test = np.exp(-(exponent2**2)/2)\n",
    "\n",
    "            scores = np.dot(K_test.T,alphas)\n",
    "            # Apply sigmoid to get probabilities (binary classification)\n",
    "            probabilities = 1 / (1 + np.exp(-scores))\n",
    "\n",
    "            # Classify based on threshold (e.g., 0.5)\n",
    "            predictions = (probabilities > 0.5).astype(int)\n",
    "            return predictions\n",
    "\n",
    "\n",
    "def vector_std(X):\n",
    "    X_mean = np.mean(X, axis=0)\n",
    "    X_var = np.mean((X - X_mean) ** 2, axis=0)\n",
    "    return np.sqrt(np.sum(X_var))\n",
    "\n",
    "def GridSearchCV(X, Y, params, cv=4):\n",
    "    kf = KFold(n_splits=cv)\n",
    "    X_train, X_test = [], []\n",
    "    Y_train, Y_test = [], []\n",
    "    for train, test in kf.split(X):\n",
    "        X_train.append(X[train])\n",
    "        Y_train.append(Y[train])\n",
    "        X_test.append(X[test])\n",
    "        Y_test.append(Y[test])\n",
    "\n",
    "    best_score = -np.inf  # Maximizing accuracy\n",
    "    for lam, sigma in product(params['lambda'], params['length']):\n",
    "        print(lam, sigma)\n",
    "        accuracies = []\n",
    "        for k in range(cv):\n",
    "            preds = KRR_global(X_train[k], Y_train[k], X_test[k], {'lambda': lam, 'length': sigma})\n",
    "            if type(preds) == str:\n",
    "                accuracy = 0\n",
    "            else:\n",
    "                accuracy = np.mean(preds == Y_test[k])\n",
    "            accuracies.append(accuracy)\n",
    "        mean_accuracy = np.mean(accuracies)\n",
    "        if mean_accuracy > best_score:\n",
    "            best_score = mean_accuracy\n",
    "            best_lambda = lam\n",
    "            best_sigma = sigma\n",
    "    \n",
    "    return {'accuracy': best_score, 'lambda': best_lambda, 'length': best_sigma}\n",
    "\n",
    "X_train, X_test, Y_train, Y_test = train_test_split(features, labels, test_size=0.2)\n",
    "print(X_train.shape)\n",
    "# initial_sigma_guess = vector_std(X_train)\n",
    "# param_grid = {'length': [initial_sigma_guess*10**i for i in range(-2,3)],\n",
    "#               'lambda': [10**i for i in [-14, -10, -6]]}\n",
    "\n",
    "# best_params = GridSearchCV(X_train, Y_train, param_grid)"
   ]
  },
  {
   "cell_type": "code",
   "execution_count": 6,
   "metadata": {},
   "outputs": [
    {
     "name": "stdout",
     "output_type": "stream",
     "text": [
      "best_params:\n",
      "{'lambda': 0.01, 'length': 4.290673174692527}\n",
      "chol on K\n"
     ]
    },
    {
     "ename": "LinAlgError",
     "evalue": "1318-th leading minor of the array is not positive definite",
     "output_type": "error",
     "traceback": [
      "\u001b[0;31m---------------------------------------------------------------------------\u001b[0m",
      "\u001b[0;31mLinAlgError\u001b[0m                               Traceback (most recent call last)",
      "Cell \u001b[0;32mIn[6], line 6\u001b[0m\n\u001b[1;32m      1\u001b[0m best_params \u001b[38;5;241m=\u001b[39m {\n\u001b[1;32m      2\u001b[0m     \u001b[38;5;124m\"\u001b[39m\u001b[38;5;124mlambda\u001b[39m\u001b[38;5;124m\"\u001b[39m : \u001b[38;5;241m10\u001b[39m\u001b[38;5;241m*\u001b[39m\u001b[38;5;241m*\u001b[39m\u001b[38;5;241m-\u001b[39m\u001b[38;5;241m2\u001b[39m,\n\u001b[1;32m      3\u001b[0m     \u001b[38;5;124m\"\u001b[39m\u001b[38;5;124mlength\u001b[39m\u001b[38;5;124m\"\u001b[39m : vector_std(X_train)\u001b[38;5;241m*\u001b[39m\u001b[38;5;241m*\u001b[39m\u001b[38;5;241m-\u001b[39m\u001b[38;5;241m2\u001b[39m\n\u001b[1;32m      4\u001b[0m }\n\u001b[1;32m      5\u001b[0m \u001b[38;5;28mprint\u001b[39m(\u001b[38;5;124mf\u001b[39m\u001b[38;5;124m\"\u001b[39m\u001b[38;5;124mbest_params:\u001b[39m\u001b[38;5;130;01m\\n\u001b[39;00m\u001b[38;5;132;01m{\u001b[39;00mbest_params\u001b[38;5;132;01m}\u001b[39;00m\u001b[38;5;124m\"\u001b[39m)\n\u001b[0;32m----> 6\u001b[0m preds \u001b[38;5;241m=\u001b[39m KRR_global(X_train, Y_train, X_test, best_params)\n\u001b[1;32m      7\u001b[0m \u001b[38;5;66;03m# print(f\"preds: {preds}\")\u001b[39;00m\n\u001b[1;32m      8\u001b[0m accuracy \u001b[38;5;241m=\u001b[39m np\u001b[38;5;241m.\u001b[39mmean(preds \u001b[38;5;241m==\u001b[39m Y_test)\n",
      "Cell \u001b[0;32mIn[4], line 18\u001b[0m, in \u001b[0;36mKRR_global\u001b[0;34m(X_train, Y_train, X_test, best_params)\u001b[0m\n\u001b[1;32m     16\u001b[0m K \u001b[38;5;241m=\u001b[39m np\u001b[38;5;241m.\u001b[39mexp(\u001b[38;5;241m-\u001b[39mnp\u001b[38;5;241m.\u001b[39mpower(exponent,\u001b[38;5;241m2\u001b[39m)\u001b[38;5;241m/\u001b[39m\u001b[38;5;241m2\u001b[39m)\n\u001b[1;32m     17\u001b[0m \u001b[38;5;66;03m# w = eigh(K,eigvals_only=True)\u001b[39;00m\n\u001b[0;32m---> 18\u001b[0m chol \u001b[38;5;241m=\u001b[39m cho_factor(K)\n\u001b[1;32m     19\u001b[0m \u001b[38;5;66;03m# K_ = K + np.eye(K.shape[0])*lam \u001b[39;00m\n\u001b[1;32m     20\u001b[0m \u001b[38;5;66;03m# print(f\"lamda:{lam}\")\u001b[39;00m\n\u001b[1;32m     21\u001b[0m K \u001b[38;5;241m+\u001b[39m\u001b[38;5;241m=\u001b[39m np\u001b[38;5;241m.\u001b[39meye(K\u001b[38;5;241m.\u001b[39mshape[\u001b[38;5;241m0\u001b[39m])\u001b[38;5;241m*\u001b[39mlam\n",
      "File \u001b[0;32m~/anaconda3/envs/csc2515/lib/python3.12/site-packages/scipy/linalg/_decomp_cholesky.py:153\u001b[0m, in \u001b[0;36mcho_factor\u001b[0;34m(a, lower, overwrite_a, check_finite)\u001b[0m\n\u001b[1;32m     93\u001b[0m \u001b[38;5;28;01mdef\u001b[39;00m \u001b[38;5;21mcho_factor\u001b[39m(a, lower\u001b[38;5;241m=\u001b[39m\u001b[38;5;28;01mFalse\u001b[39;00m, overwrite_a\u001b[38;5;241m=\u001b[39m\u001b[38;5;28;01mFalse\u001b[39;00m, check_finite\u001b[38;5;241m=\u001b[39m\u001b[38;5;28;01mTrue\u001b[39;00m):\n\u001b[1;32m     94\u001b[0m \u001b[38;5;250m    \u001b[39m\u001b[38;5;124;03m\"\"\"\u001b[39;00m\n\u001b[1;32m     95\u001b[0m \u001b[38;5;124;03m    Compute the Cholesky decomposition of a matrix, to use in cho_solve\u001b[39;00m\n\u001b[1;32m     96\u001b[0m \n\u001b[0;32m   (...)\u001b[0m\n\u001b[1;32m    151\u001b[0m \n\u001b[1;32m    152\u001b[0m \u001b[38;5;124;03m    \"\"\"\u001b[39;00m\n\u001b[0;32m--> 153\u001b[0m     c, lower \u001b[38;5;241m=\u001b[39m _cholesky(a, lower\u001b[38;5;241m=\u001b[39mlower, overwrite_a\u001b[38;5;241m=\u001b[39moverwrite_a, clean\u001b[38;5;241m=\u001b[39m\u001b[38;5;28;01mFalse\u001b[39;00m,\n\u001b[1;32m    154\u001b[0m                          check_finite\u001b[38;5;241m=\u001b[39mcheck_finite)\n\u001b[1;32m    155\u001b[0m     \u001b[38;5;28;01mreturn\u001b[39;00m c, lower\n",
      "File \u001b[0;32m~/anaconda3/envs/csc2515/lib/python3.12/site-packages/scipy/linalg/_decomp_cholesky.py:36\u001b[0m, in \u001b[0;36m_cholesky\u001b[0;34m(a, lower, overwrite_a, clean, check_finite)\u001b[0m\n\u001b[1;32m     34\u001b[0m c, info \u001b[38;5;241m=\u001b[39m potrf(a1, lower\u001b[38;5;241m=\u001b[39mlower, overwrite_a\u001b[38;5;241m=\u001b[39moverwrite_a, clean\u001b[38;5;241m=\u001b[39mclean)\n\u001b[1;32m     35\u001b[0m \u001b[38;5;28;01mif\u001b[39;00m info \u001b[38;5;241m>\u001b[39m \u001b[38;5;241m0\u001b[39m:\n\u001b[0;32m---> 36\u001b[0m     \u001b[38;5;28;01mraise\u001b[39;00m LinAlgError(\u001b[38;5;124m\"\u001b[39m\u001b[38;5;132;01m%d\u001b[39;00m\u001b[38;5;124m-th leading minor of the array is not positive \u001b[39m\u001b[38;5;124m\"\u001b[39m\n\u001b[1;32m     37\u001b[0m                       \u001b[38;5;124m\"\u001b[39m\u001b[38;5;124mdefinite\u001b[39m\u001b[38;5;124m\"\u001b[39m \u001b[38;5;241m%\u001b[39m info)\n\u001b[1;32m     38\u001b[0m \u001b[38;5;28;01mif\u001b[39;00m info \u001b[38;5;241m<\u001b[39m \u001b[38;5;241m0\u001b[39m:\n\u001b[1;32m     39\u001b[0m     \u001b[38;5;28;01mraise\u001b[39;00m \u001b[38;5;167;01mValueError\u001b[39;00m(\u001b[38;5;124mf\u001b[39m\u001b[38;5;124m'\u001b[39m\u001b[38;5;124mLAPACK reported an illegal value in \u001b[39m\u001b[38;5;132;01m{\u001b[39;00m\u001b[38;5;241m-\u001b[39minfo\u001b[38;5;132;01m}\u001b[39;00m\u001b[38;5;124m-th argument\u001b[39m\u001b[38;5;124m'\u001b[39m\n\u001b[1;32m     40\u001b[0m                      \u001b[38;5;124m'\u001b[39m\u001b[38;5;124mon entry to \u001b[39m\u001b[38;5;124m\"\u001b[39m\u001b[38;5;124mPOTRF\u001b[39m\u001b[38;5;124m\"\u001b[39m\u001b[38;5;124m.\u001b[39m\u001b[38;5;124m'\u001b[39m)\n",
      "\u001b[0;31mLinAlgError\u001b[0m: 1318-th leading minor of the array is not positive definite"
     ]
    }
   ],
   "source": [
    "best_params = {\n",
    "    \"lambda\" : 10**-2,\n",
    "    \"length\" : vector_std(X_train)**-2\n",
    "}\n",
    "print(f\"best_params:\\n{best_params}\")\n",
    "preds = KRR_global(X_train, Y_train, X_test, best_params)\n",
    "# print(f\"preds: {preds}\")\n",
    "accuracy = np.mean(preds == Y_test)\n",
    "print(f'accuracy: {accuracy}')"
   ]
  },
  {
   "cell_type": "code",
   "execution_count": 4,
   "metadata": {},
   "outputs": [],
   "source": [
    "# best_params"
   ]
  },
  {
   "cell_type": "code",
   "execution_count": 5,
   "metadata": {},
   "outputs": [],
   "source": [
    "# preds = KRR_global(X_train, Y_train, X_test, best_params)\n",
    "# accuracy = np.mean(preds == Y_test)\n",
    "# accuracy"
   ]
  },
  {
   "cell_type": "code",
   "execution_count": 7,
   "metadata": {},
   "outputs": [],
   "source": [
    "x = [[0,0],[1,0],[2,0]]\n",
    "y = [[0,0],[0,0],[0,0]]\n",
    "\n",
    "dist = scipy.spatial.distance_matrix(x,x)"
   ]
  },
  {
   "cell_type": "code",
   "execution_count": null,
   "metadata": {},
   "outputs": [],
   "source": [
    "print(dist)"
   ]
  },
  {
   "cell_type": "code",
   "execution_count": null,
   "metadata": {},
   "outputs": [],
   "source": []
  }
 ],
 "metadata": {
  "kernelspec": {
   "display_name": "csc2515",
   "language": "python",
   "name": "python3"
  },
  "language_info": {
   "codemirror_mode": {
    "name": "ipython",
    "version": 3
   },
   "file_extension": ".py",
   "mimetype": "text/x-python",
   "name": "python",
   "nbconvert_exporter": "python",
   "pygments_lexer": "ipython3",
   "version": "3.12.5"
  }
 },
 "nbformat": 4,
 "nbformat_minor": 2
}
