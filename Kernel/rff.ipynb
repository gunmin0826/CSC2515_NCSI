{
 "cells": [
  {
   "cell_type": "code",
   "execution_count": 1,
   "metadata": {},
   "outputs": [],
   "source": [
    "import numpy as np\n",
    "import scipy\n",
    "from scipy.linalg import cho_solve\n",
    "from itertools import product\n",
    "import pandas as pd\n",
    "from scipy.io import arff\n",
    "from sklearn.model_selection import train_test_split, KFold\n",
    "from sklearn.preprocessing import MinMaxScaler\n",
    "\n",
    "arff_file = arff.loadarff('MagicTelescope.arff')\n",
    "data = pd.DataFrame(arff_file[0])\n"
   ]
  },
  {
   "cell_type": "code",
   "execution_count": 2,
   "metadata": {},
   "outputs": [],
   "source": [
    "data['labels'] = (data['class:'] == b'g').astype(int)\n",
    "labels = data['labels'].to_numpy()\n",
    "features = data.iloc[:,1:-2].to_numpy()\n",
    "\n",
    "scaler = MinMaxScaler()\n",
    "scaler.fit(features)\n",
    "features = scaler.transform(features)"
   ]
  },
  {
   "cell_type": "code",
   "execution_count": 4,
   "metadata": {},
   "outputs": [
    {
     "name": "stdout",
     "output_type": "stream",
     "text": [
      "1e-14 0.004835921817014586\n",
      "accuracy: 0.39931650893796006\n",
      "accuracy: 0.4195583596214511\n",
      "accuracy: 0.4116719242902208\n",
      "accuracy: 0.39668769716088326\n",
      "1e-14 0.04835921817014586\n",
      "accuracy: 0.7342271293375394\n",
      "accuracy: 0.7234490010515248\n",
      "accuracy: 0.7284437434279706\n",
      "accuracy: 0.7386961093585699\n",
      "1e-14 0.48359218170145857\n"
     ]
    },
    {
     "name": "stderr",
     "output_type": "stream",
     "text": [
      "/var/folders/hf/xpg67mrx1vjb7hzv3ym5m07c0000gn/T/ipykernel_7942/948552970.py:32: RuntimeWarning: overflow encountered in exp\n",
      "  probabilities = 1 / (1 + np.exp(-scores))\n"
     ]
    },
    {
     "name": "stdout",
     "output_type": "stream",
     "text": [
      "accuracy: 0.6611461619348055\n",
      "accuracy: 0.6619348054679285\n",
      "accuracy: 0.655099894847529\n",
      "accuracy: 0.6529968454258676\n",
      "1e-14 4.835921817014586\n",
      "1e-14 48.35921817014586\n",
      "1e-10 0.004835921817014586\n",
      "accuracy: 0.39931650893796006\n",
      "accuracy: 0.4195583596214511\n",
      "accuracy: 0.4116719242902208\n",
      "accuracy: 0.39668769716088326\n",
      "1e-10 0.04835921817014586\n",
      "accuracy: 0.7334384858044164\n",
      "accuracy: 0.7226603575184016\n",
      "accuracy: 0.7268664563617245\n",
      "accuracy: 0.7381703470031545\n",
      "1e-10 0.48359218170145857\n",
      "accuracy: 0.7384332281808622\n",
      "accuracy: 0.729758149316509\n",
      "accuracy: 0.723186119873817\n",
      "accuracy: 0.7292323869610936\n",
      "1e-10 4.835921817014586\n",
      "accuracy: 0.7365930599369085\n",
      "accuracy: 0.7179284963196635\n",
      "accuracy: 0.7281808622502629\n",
      "accuracy: 0.7260778128286015\n",
      "1e-10 48.35921817014586\n",
      "accuracy: 0.7145110410094637\n",
      "accuracy: 0.7047844374342797\n",
      "accuracy: 0.7042586750788643\n",
      "accuracy: 0.711093585699264\n",
      "1e-06 0.004835921817014586\n",
      "accuracy: 0.39931650893796006\n",
      "accuracy: 0.4195583596214511\n",
      "accuracy: 0.4116719242902208\n",
      "accuracy: 0.39668769716088326\n",
      "1e-06 0.04835921817014586\n",
      "accuracy: 0.7334384858044164\n",
      "accuracy: 0.7218717139852786\n",
      "accuracy: 0.7268664563617245\n",
      "accuracy: 0.7379074658254469\n",
      "1e-06 0.48359218170145857\n",
      "accuracy: 0.758937960042061\n",
      "accuracy: 0.7407991587802313\n",
      "accuracy: 0.749211356466877\n",
      "accuracy: 0.749211356466877\n",
      "1e-06 4.835921817014586\n",
      "accuracy: 0.7266035751840169\n",
      "accuracy: 0.7060988433228181\n",
      "accuracy: 0.7113564668769716\n",
      "accuracy: 0.7147739221871714\n",
      "1e-06 48.35921817014586\n",
      "accuracy: 0.694794952681388\n",
      "accuracy: 0.6895373291272345\n",
      "accuracy: 0.6895373291272345\n",
      "accuracy: 0.7003154574132492\n"
     ]
    }
   ],
   "source": [
    "def KRR_global(X_train,Y_train,X_test,best_params):\n",
    "    '''\n",
    "    Returns the Kernel Ridge Regression predictions using a Gaussian kernel.\n",
    "    '''\n",
    "    lam = best_params['lambda']\n",
    "    sigma = best_params['length']\n",
    "       \n",
    "    dist = scipy.spatial.distance_matrix(X_train, X_train)\n",
    "    exponent = dist/sigma\n",
    "\n",
    "    K = np.exp(-(exponent**2)/2)\n",
    "\n",
    "    K += np.eye(K.shape[0])*lam\n",
    "\n",
    "    try:\n",
    "        L = scipy.linalg.cholesky(K, lower=True)\n",
    "    except:\n",
    "        return 'Gram Matrix is not positive definite'\n",
    "    else:\n",
    "        try:\n",
    "            alphas = cho_solve((L,True),Y_train)\n",
    "        except:\n",
    "            return 'Cholesky decomposition failed, check distance matrices'\n",
    "        else:\n",
    "            dist2 = scipy.spatial.distance_matrix(X_train, X_test)\n",
    "            exponent2 = dist2/sigma\n",
    "\n",
    "            K_test = np.exp(-(exponent2**2)/2)\n",
    "\n",
    "            scores = np.dot(K_test.T,alphas)\n",
    "            # Apply sigmoid to get probabilities (binary classification)\n",
    "            probabilities = 1 / (1 + np.exp(-scores))\n",
    "\n",
    "            # Classify based on threshold (e.g., 0.5)\n",
    "            predictions = (probabilities > 0.5).astype(int)\n",
    "            return predictions\n",
    "\n",
    "def vector_std(X):\n",
    "    X_mean = np.mean(X, axis=0)\n",
    "    X_var = np.mean((X - X_mean) ** 2, axis=0)\n",
    "    return np.sqrt(np.sum(X_var))\n",
    "\n",
    "def GridSearchCV(X, Y, params, cv=4):\n",
    "    kf = KFold(n_splits=cv)\n",
    "    X_train, X_test = [], []\n",
    "    Y_train, Y_test = [], []\n",
    "    for train, test in kf.split(X):\n",
    "        X_train.append(X[train])\n",
    "        Y_train.append(Y[train])\n",
    "        X_test.append(X[test])\n",
    "        Y_test.append(Y[test])\n",
    "\n",
    "    best_score = -np.inf  # Maximizing accuracy\n",
    "    for lam, sigma in product(params['lambda'], params['length']):\n",
    "        print(lam, sigma)\n",
    "        accuracies = []\n",
    "        for k in range(cv):\n",
    "            preds = KRR_global(X_train[k], Y_train[k], X_test[k], {'lambda': lam, 'length': sigma})\n",
    "            if type(preds) == str:\n",
    "                accuracy = 0\n",
    "            else:\n",
    "                accuracy = np.mean(preds == Y_test[k])\n",
    "                print(f\"accuracy: {accuracy}\")\n",
    "            accuracies.append(accuracy)\n",
    "        mean_accuracy = np.mean(accuracies)\n",
    "        if mean_accuracy > best_score:\n",
    "            best_score = mean_accuracy\n",
    "            best_lambda = lam\n",
    "            best_sigma = sigma\n",
    "    \n",
    "    return {'accuracy': best_score, 'lambda': best_lambda, 'length': best_sigma}\n",
    "\n",
    "X_train, X_test, Y_train, Y_test = train_test_split(features, labels, test_size=0.2)\n",
    "\n",
    "initial_sigma_guess = vector_std(X_train)\n",
    "param_grid = {'length': [initial_sigma_guess*10**i for i in range(-2,3)],\n",
    "              'lambda': [10**i for i in [-14, -10, -6]]}\n",
    "\n",
    "best_params = GridSearchCV(X_train, Y_train, param_grid)"
   ]
  },
  {
   "cell_type": "code",
   "execution_count": 5,
   "metadata": {},
   "outputs": [
    {
     "data": {
      "text/plain": [
       "{'accuracy': 0.7495399579390116,\n",
       " 'lambda': 1e-06,\n",
       " 'length': 0.48359218170145857}"
      ]
     },
     "execution_count": 5,
     "metadata": {},
     "output_type": "execute_result"
    }
   ],
   "source": [
    "best_params"
   ]
  },
  {
   "cell_type": "code",
   "execution_count": 44,
   "metadata": {},
   "outputs": [],
   "source": [
    "preds = KRR_global(X_train, Y_train, X_test, best_params)\n",
    "accuracy = np.mean(preds == Y_test)\n",
    "accuracy"
   ]
  },
  {
   "cell_type": "code",
   "execution_count": 46,
   "metadata": {},
   "outputs": [
    {
     "data": {
      "text/plain": [
       "np.float64(0.6819137749737119)"
      ]
     },
     "execution_count": 46,
     "metadata": {},
     "output_type": "execute_result"
    }
   ],
   "source": []
  },
  {
   "cell_type": "code",
   "execution_count": null,
   "metadata": {},
   "outputs": [],
   "source": []
  }
 ],
 "metadata": {
  "kernelspec": {
   "display_name": "csc2515",
   "language": "python",
   "name": "python3"
  },
  "language_info": {
   "codemirror_mode": {
    "name": "ipython",
    "version": 3
   },
   "file_extension": ".py",
   "mimetype": "text/x-python",
   "name": "python",
   "nbconvert_exporter": "python",
   "pygments_lexer": "ipython3",
   "version": "3.12.5"
  }
 },
 "nbformat": 4,
 "nbformat_minor": 2
}
